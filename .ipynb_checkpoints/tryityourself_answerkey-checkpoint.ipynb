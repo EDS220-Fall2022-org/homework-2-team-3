{
 "cells": [
  {
   "cell_type": "markdown",
   "id": "2d6305c7-9621-45b6-a78d-2544aa5c3526",
   "metadata": {},
   "source": [
    "### Now, try it yourself! - Answer key"
   ]
  },
  {
   "cell_type": "code",
   "execution_count": 1,
   "id": "2290c3e4-e489-4081-9fac-4318ec8c82bc",
   "metadata": {},
   "outputs": [],
   "source": [
    "# Run this chunk to get the base information to create these maps\n",
    "\n",
    "# Import packages\n",
    "import ee\n",
    "import geemap\n",
    "import pandas as pd\n",
    "import matplotlib.pyplot as plt\n",
    "from matplotlib.ticker import AutoMinorLocator\n",
    "\n",
    "# Authenticate and initialize GEE\n",
    "# ee.Authenticate()\n",
    "ee.Initialize()\n",
    "\n",
    "# Load MCD15A3H product for FPAR and LAI data\n",
    "gdat = ee.ImageCollection('MODIS/061/MCD15A3H')"
   ]
  },
  {
   "cell_type": "markdown",
   "id": "455c38b1-469d-4705-93bb-8ed668a9cbdb",
   "metadata": {},
   "source": [
    "#### FPAR in Chihuahuan Desert"
   ]
  },
  {
   "cell_type": "code",
   "execution_count": 2,
   "id": "dc7e053a-3af0-4dea-b70b-b7f42028069b",
   "metadata": {},
   "outputs": [
    {
     "data": {
      "application/vnd.jupyter.widget-view+json": {
       "model_id": "fab0b8e48b6f404eb6d44fe3fbb54ab9",
       "version_major": 2,
       "version_minor": 0
      },
      "text/plain": [
       "Map(center=[31.767759, -106.506416], controls=(ZoomControl(options=['position', 'zoom_in_text', 'zoom_in_title…"
      ]
     },
     "execution_count": 2,
     "metadata": {},
     "output_type": "execute_result"
    }
   ],
   "source": [
    "# Select FPAR band name/variable\n",
    "gee1 = gdat.filter(ee.Filter.date('2010-11-01', '2012-11-01')).select('Fpar').mean() # select for time period of interest 1\n",
    "gee2 = gdat.filter(ee.Filter.date('2020-11-01', '2022-11-01')).select('Fpar').mean() # select for time period of interest 2\n",
    "\n",
    "# Create basemap with spatial parameters for Chihuahuan Desert\n",
    "Map = geemap.Map(center = [31.767759, -106.506416], zoom = 9)\n",
    "\n",
    "# Define palette\n",
    "palette = ['#fffff9', '#d7eba8', '#addd8e',\n",
    "          '#78c679', '#41ab5d', '#238443', '#005a32']\n",
    "\n",
    "# Define visual parameters\n",
    "visParams = {'bands': ['Fpar'], # select band/variable\n",
    "             'min': 0, # set minimum parameter\n",
    "             'max': 100, # set maximum parameter\n",
    "             'palette': palette} # set palette\n",
    "\n",
    "# Define color bar\n",
    "colors = visParams['palette'] # set colors from visual parameters\n",
    "vmin = visParams['min'] # set minimum from visual parameters\n",
    "vmax = visParams['max'] # set maximum from visual parameters\n",
    "\n",
    "# Add layer for time period of interest 1 to the left tile\n",
    "left  = geemap.ee_tile_layer(gee1, visParams, 'Mean FPAR (%) in Chihuahuan Desert from 2010 to 2012')\n",
    "\n",
    "# Add layer for time period of interest 2 to the right tile\n",
    "right = geemap.ee_tile_layer(gee2, visParams, 'Mean FPAR (%) in Chihuahuan Desert from 2020 to 2022')\n",
    "\n",
    "# Add tiles to the map\n",
    "Map.split_map(left, right)\n",
    "\n",
    "# Add color bar\n",
    "Map.add_colorbar_branca(colors = colors, \n",
    "                        vmin = vmin, \n",
    "                        vmax = vmax)\n",
    "Map # view map"
   ]
  },
  {
   "cell_type": "markdown",
   "id": "bd986a39-c29c-4cff-bc84-c66f919a0d22",
   "metadata": {},
   "source": [
    "#### LAI in Chihuahuan Desert"
   ]
  },
  {
   "cell_type": "code",
   "execution_count": 3,
   "id": "66368c0b-6572-4cc4-abf3-3132d0182260",
   "metadata": {},
   "outputs": [
    {
     "data": {
      "application/vnd.jupyter.widget-view+json": {
       "model_id": "5bf8b2a40b5545c5b633e11bf26d1b25",
       "version_major": 2,
       "version_minor": 0
      },
      "text/plain": [
       "Map(center=[31.767759, -106.506416], controls=(ZoomControl(options=['position', 'zoom_in_text', 'zoom_in_title…"
      ]
     },
     "execution_count": 3,
     "metadata": {},
     "output_type": "execute_result"
    }
   ],
   "source": [
    "# Select LAI band name/variable\n",
    "gee3 = gdat.filter(ee.Filter.date('2010-11-01', '2012-11-01')).select('Lai').mean() # select for time period of interest 1\n",
    "gee4 = gdat.filter(ee.Filter.date('2020-11-01', '2022-11-01')).select('Lai').mean() # select for time period of interest 2\n",
    "\n",
    "# Create basemap with spatial parameters for Chihuahuan Desert\n",
    "Map2 = geemap.Map(center = [31.767759, -106.506416], zoom = 9)\n",
    "\n",
    "# Define palette\n",
    "palette = ['#fffff9', '#d7eba8', '#addd8e',\n",
    "          '#78c679', '#41ab5d', '#238443', '#005a32'] # can just use the same one as for the first map, no need to rewrite this if you did\n",
    "\n",
    "# Define visual parameters\n",
    "visParams2 = {'bands': ['Lai'], # select band/variable\n",
    "             'min': 0, # set minimum parameter\n",
    "             'max': 100, # set maximum parameter\n",
    "             'palette': palette} # set palette\n",
    "\n",
    "# Define color bar\n",
    "colors2 = visParams2['palette'] # set colors from visual parameters\n",
    "vmin2 = visParams2['min'] # set minimum from visual parameters\n",
    "vmax2 = visParams2['max'] # set maximum from visual parameters\n",
    "\n",
    "# Add layer for time period of interest 1 to the left tile\n",
    "left2 = geemap.ee_tile_layer(gee3, visParams2, 'Mean LAI (m²/m²) in Chihuahuan Desert from 2010 to 2012')\n",
    "\n",
    "# Add layer for time period of interest 2 to the right tile\n",
    "right2 = geemap.ee_tile_layer(gee4, visParams2, 'Mean LAI (m²/m²) in Chihuahuan Desert from 2020 to 2022')\n",
    "\n",
    "# Add tiles to the map\n",
    "Map2.split_map(left2, right2)\n",
    "\n",
    "# Add color bar\n",
    "Map2.add_colorbar_branca(colors = colors2, \n",
    "                        vmin = vmin2, \n",
    "                        vmax = vmax2)\n",
    "Map2 # view map"
   ]
  }
 ],
 "metadata": {
  "kernelspec": {
   "display_name": "Python 3 (ipykernel)",
   "language": "python",
   "name": "python3"
  },
  "language_info": {
   "codemirror_mode": {
    "name": "ipython",
    "version": 3
   },
   "file_extension": ".py",
   "mimetype": "text/x-python",
   "name": "python",
   "nbconvert_exporter": "python",
   "pygments_lexer": "ipython3",
   "version": "3.10.5"
  }
 },
 "nbformat": 4,
 "nbformat_minor": 5
}
